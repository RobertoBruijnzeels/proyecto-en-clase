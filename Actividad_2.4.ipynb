{
 "cells": [
  {
   "cell_type": "code",
   "execution_count": null,
   "metadata": {},
   "outputs": [
    {
     "ename": "SyntaxError",
     "evalue": "invalid syntax (4100710568.py, line 3)",
     "output_type": "error",
     "traceback": [
      "\u001b[1;36m  Cell \u001b[1;32mIn[2], line 3\u001b[1;36m\u001b[0m\n\u001b[1;33m    pip install pulp\u001b[0m\n\u001b[1;37m        ^\u001b[0m\n\u001b[1;31mSyntaxError\u001b[0m\u001b[1;31m:\u001b[0m invalid syntax\n"
     ]
    }
   ],
   "source": [
    "import pandas as pd\n",
    "import ast\n",
    "\n",
    "from pulp import LpProblem, LpVariable, LpMaximize, lpSum, LpStatus, LpBinary\n",
    "\n",
    "# Función para resolver el problema de la mochila\n",
    "def knapsack(weights, values, capacity):\n",
    "    n = len(weights)\n",
    "    \n",
    "    # Crear el problema\n",
    "    prob = LpProblem(\"Knapsack_Problem\", LpMaximize)\n",
    "\n",
    "    # Crear variables\n",
    "    x = [LpVariable(f'x{i}', cat=LpBinary) for i in range(n)]\n",
    "\n",
    "    # Función objetivo\n",
    "    prob += lpSum(values[i] * x[i] for i in range(n)), \"Total_Value\"\n",
    "\n",
    "    # Restricción de capacidad\n",
    "    prob += lpSum(weights[i] * x[i] for i in range(n)) <= capacity, \"Capacity_Constraint\"\n",
    "\n",
    "    # Resolver el problema\n",
    "    prob.solve()\n",
    "\n",
    "    # Obtener resultados\n",
    "    best_picks = [int(x[i].varValue) for i in range(n)]\n",
    "    best_price = prob.objective.value()\n",
    "    average_weights = sum(weights[i] * best_picks[i] for i in range(n)) / sum(best_picks) if sum(best_picks) > 0 else 0\n",
    "    average_prices = sum(values[i] * best_picks[i] for i in range(n)) / sum(best_picks) if sum(best_picks) > 0 else 0\n",
    "    cost_function = f\"Maximize: {lpSum(values[i] * x[i] for i in range(n))}\"\n",
    "    constraint = f\"Sum(weights) <= {capacity}\"\n",
    "\n",
    "    return best_picks, best_price, average_weights, average_prices, cost_function, constraint\n",
    "\n",
    "# Leer el archivo CSV\n",
    "df = pd.read_csv('input.csv')\n",
    "\n",
    "# Listas para almacenar los resultados\n",
    "best_picks_list = []\n",
    "best_price_list = []\n",
    "average_weights_list = []\n",
    "average_prices_list = []\n",
    "cost_function_list = []\n",
    "constraint_list = []\n",
    "\n",
    "# Procesar cada fila del DataFrame\n",
    "for index, row in df.iterrows():\n",
    "    weights = ast.literal_eval(row['weights'])\n",
    "    values = ast.literal_eval(row['values'])\n",
    "    capacity = row['capacity']\n",
    "    \n",
    "    best_picks, best_price, average_weights, average_prices, cost_function, constraint = knapsack(weights, values, capacity)\n",
    "    \n",
    "    best_picks_list.append(best_picks)\n",
    "    best_price_list.append(best_price)\n",
    "    average_weights_list.append(average_weights)\n",
    "    average_prices_list.append(average_prices)\n",
    "    cost_function_list.append(cost_function)\n",
    "    constraint_list.append(constraint)\n",
    "\n",
    "# Agregar las nuevas columnas al DataFrame\n",
    "df['Best picks'] = best_picks_list\n",
    "df['Best price'] = best_price_list\n",
    "df['Average Weights'] = average_weights_list\n",
    "df['Average Prices'] = average_prices_list\n",
    "df['Cost Function'] = cost_function_list\n",
    "df['Constraint'] = constraint_list\n",
    "\n",
    "# Guardar el DataFrame en un nuevo archivo CSV\n",
    "df.to_csv('output.csv', index=False)"
   ]
  },
  {
   "cell_type": "code",
   "execution_count": 3,
   "metadata": {},
   "outputs": [
    {
     "name": "stdout",
     "output_type": "stream",
     "text": [
      "Collecting pulp\n",
      "  Downloading PuLP-3.0.2-py3-none-any.whl.metadata (6.7 kB)\n",
      "Downloading PuLP-3.0.2-py3-none-any.whl (17.7 MB)\n",
      "   ---------------------------------------- 0.0/17.7 MB ? eta -:--:--\n",
      "   - -------------------------------------- 0.5/17.7 MB 4.5 MB/s eta 0:00:04\n",
      "   ----- ---------------------------------- 2.4/17.7 MB 7.2 MB/s eta 0:00:03\n",
      "   --------- ------------------------------ 4.2/17.7 MB 8.3 MB/s eta 0:00:02\n",
      "   ------------- -------------------------- 5.8/17.7 MB 7.7 MB/s eta 0:00:02\n",
      "   ----------------- ---------------------- 7.6/17.7 MB 7.9 MB/s eta 0:00:02\n",
      "   ---------------------- ----------------- 10.0/17.7 MB 8.4 MB/s eta 0:00:01\n",
      "   -------------------------- ------------- 11.8/17.7 MB 8.5 MB/s eta 0:00:01\n",
      "   -------------------------------- ------- 14.4/17.7 MB 9.1 MB/s eta 0:00:01\n",
      "   -------------------------------------- - 17.0/17.7 MB 9.3 MB/s eta 0:00:01\n",
      "   ---------------------------------------- 17.7/17.7 MB 9.1 MB/s eta 0:00:00\n",
      "Installing collected packages: pulp\n",
      "Successfully installed pulp-3.0.2\n",
      "Note: you may need to restart the kernel to use updated packages.\n"
     ]
    },
    {
     "name": "stderr",
     "output_type": "stream",
     "text": [
      "\n",
      "[notice] A new release of pip is available: 25.0 -> 25.0.1\n",
      "[notice] To update, run: python.exe -m pip install --upgrade pip\n"
     ]
    }
   ],
   "source": [
    "pip install pulp"
   ]
  },
  {
   "cell_type": "code",
   "execution_count": null,
   "metadata": {},
   "outputs": [],
   "source": []
  }
 ],
 "metadata": {
  "kernelspec": {
   "display_name": ".venv",
   "language": "python",
   "name": "python3"
  },
  "language_info": {
   "codemirror_mode": {
    "name": "ipython",
    "version": 3
   },
   "file_extension": ".py",
   "mimetype": "text/x-python",
   "name": "python",
   "nbconvert_exporter": "python",
   "pygments_lexer": "ipython3",
   "version": "3.13.1"
  }
 },
 "nbformat": 4,
 "nbformat_minor": 2
}
