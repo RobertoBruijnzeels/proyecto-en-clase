{
 "cells": [
  {
   "cell_type": "code",
   "execution_count": 8,
   "metadata": {},
   "outputs": [
    {
     "name": "stdout",
     "output_type": "stream",
     "text": [
      "   Id problem           Weights            Prices  Capacity  Best picks  \\\n",
      "0           1  [46 40 42 38 10]  [12 19 19 15  8]        40         NaN   \n",
      "1           2  [11 31  4  6  7]  [ 2  8 18 16  3]        64         NaN   \n",
      "2           3  [32 49 27 37 24]  [19 16 16  4  1]        87         NaN   \n",
      "3           4  [20 35 22 23 16]  [19 17 19  9  1]        21         NaN   \n",
      "4           5  [ 7 12 19 13 20]  [10 11 18 15  5]        50         NaN   \n",
      "\n",
      "   Best price  Average Weights  Average Prices  Cost function  Constraint  \n",
      "0         NaN              NaN             NaN            NaN         NaN  \n",
      "1         NaN              NaN             NaN            NaN         NaN  \n",
      "2         NaN              NaN             NaN            NaN         NaN  \n",
      "3         NaN              NaN             NaN            NaN         NaN  \n",
      "4         NaN              NaN             NaN            NaN         NaN  \n",
      "Index(['Id problem', 'Weights', 'Prices', 'Capacity', 'Best picks',\n",
      "       'Best price', 'Average Weights', 'Average Prices', 'Cost function',\n",
      "       'Constraint'],\n",
      "      dtype='object')\n",
      "El procesamiento ha finalizado y los resultados se han guardado en 'output.csv'.\n"
     ]
    }
   ],
   "source": [
    "import pandas as pd\n",
    "from pulp import LpProblem, LpVariable, LpMaximize, lpSum, LpBinary\n",
    "\n",
    "# Función para resolver el problema de la mochila\n",
    "def knapsack(weights, values, capacity):\n",
    "    n = len(weights)\n",
    "    \n",
    "    # Crear el problema\n",
    "    prob = LpProblem(\"Knapsack_Problem\", LpMaximize)\n",
    "\n",
    "    # Crear variables\n",
    "    x = [LpVariable(f'x{i}', cat=LpBinary) for i in range(n)]\n",
    "\n",
    "    # Función objetivo\n",
    "    prob += lpSum(values[i] * x[i] for i in range(n)), \"Total_Value\"\n",
    "\n",
    "    # Restricción de capacidad\n",
    "    prob += lpSum(weights[i] * x[i] for i in range(n)) <= capacity, \"Capacity_Constraint\"\n",
    "\n",
    "    # Resolver el problema\n",
    "    prob.solve()\n",
    "\n",
    "    # Obtener resultados\n",
    "    best_picks = [int(x[i].varValue) for i in range(n)]\n",
    "    best_price = prob.objective.value()\n",
    "    average_weights = sum(weights[i] * best_picks[i] for i in range(n)) / sum(best_picks) if sum(best_picks) > 0 else 0\n",
    "    average_prices = sum(values[i] * best_picks[i] for i in range(n)) / sum(best_picks) if sum(best_picks) > 0 else 0\n",
    "    cost_function = f\"Maximize: {lpSum(values[i] * x[i] for i in range(n))}\"\n",
    "    constraint = f\"Sum(weights) <= {capacity}\"\n",
    "\n",
    "    return best_picks, best_price, average_weights, average_prices, cost_function, constraint\n",
    "\n",
    "# Leer el archivo CSV\n",
    "df = pd.read_csv('mochila_almno_.csv')  # Asegúrate de que el archivo esté en el mismo directorio\n",
    "\n",
    "# Eliminar espacios en blanco en los nombres de las columnas\n",
    "df.columns = df.columns.str.strip()\n",
    "\n",
    "# Verificar el contenido del DataFrame\n",
    "print(df.head())  # Muestra las primeras filas del DataFrame\n",
    "print(df.columns)  # Muestra los nombres de las columnas\n",
    "\n",
    "# Listas para almacenar los resultados\n",
    "best_picks_list = []\n",
    "best_price_list = []\n",
    "average_weights_list = []\n",
    "average_prices_list = []\n",
    "cost_function_list = []\n",
    "constraint_list = []\n",
    "\n",
    "# Procesar cada fila del DataFrame\n",
    "for index, row in df.iterrows():\n",
    "    # Reemplazar espacios por comas en los valores de weights y prices\n",
    "    weights_str = row['Weights'].replace(' ', ',')\n",
    "    values_str = row['Prices'].replace(' ', ',')\n",
    "    \n",
    "    # Agregar corchetes para que sea un formato válido\n",
    "    weights_str = weights_str.strip('[]')  # Eliminar corchetes\n",
    "    values_str = values_str.strip('[]')    # Eliminar corchetes\n",
    "    \n",
    "    try:\n",
    "        # Convertir las cadenas a listas, filtrando elementos vacíos\n",
    "        weights = [int(w) for w in weights_str.split(',') if w.strip()]  # Convertir a lista de enteros\n",
    "        values = [int(v) for v in values_str.split(',') if v.strip()]    # Convertir a lista de enteros\n",
    "    except ValueError as e:\n",
    "        print(f\"Error en la fila {index}: {e}\")\n",
    "        continue  # Saltar a la siguiente fila en caso de error\n",
    "    \n",
    "    capacity = row['Capacity']  # Obtener la capacidad\n",
    "    \n",
    "    best_picks, best_price, average_weights, average_prices, cost_function, constraint = knapsack(weights, values, capacity)\n",
    "    \n",
    "    best_picks_list.append(best_picks)\n",
    "    best_price_list.append(best_price)\n",
    "    average_weights_list.append(average_weights)\n",
    "    average_prices_list.append(average_prices)\n",
    "    cost_function_list.append(cost_function)\n",
    "    constraint_list.append(constraint)\n",
    "\n",
    "# Agregar las nuevas columnas al DataFrame\n",
    "df['Best picks'] = best_picks_list\n",
    "df['Best price'] = best_price_list\n",
    "df['Average Weights'] = average_weights_list\n",
    "df['Average Prices'] = average_prices_list\n",
    "df['Cost function'] = cost_function_list\n",
    "df['Constraint'] = constraint_list\n",
    "\n",
    "# Guardar el DataFrame en un nuevo archivo CSV\n",
    "df.to_csv('output.csv', index=False)\n",
    "\n",
    "print(\"El procesamiento ha finalizado y los resultados se han guardado en 'output.csv'.\")"
   ]
  },
  {
   "cell_type": "code",
   "execution_count": 3,
   "metadata": {},
   "outputs": [
    {
     "name": "stdout",
     "output_type": "stream",
     "text": [
      "Collecting pulp\n",
      "  Downloading PuLP-3.0.2-py3-none-any.whl.metadata (6.7 kB)\n",
      "Downloading PuLP-3.0.2-py3-none-any.whl (17.7 MB)\n",
      "   ---------------------------------------- 0.0/17.7 MB ? eta -:--:--\n",
      "   - -------------------------------------- 0.5/17.7 MB 4.5 MB/s eta 0:00:04\n",
      "   ----- ---------------------------------- 2.4/17.7 MB 7.2 MB/s eta 0:00:03\n",
      "   --------- ------------------------------ 4.2/17.7 MB 8.3 MB/s eta 0:00:02\n",
      "   ------------- -------------------------- 5.8/17.7 MB 7.7 MB/s eta 0:00:02\n",
      "   ----------------- ---------------------- 7.6/17.7 MB 7.9 MB/s eta 0:00:02\n",
      "   ---------------------- ----------------- 10.0/17.7 MB 8.4 MB/s eta 0:00:01\n",
      "   -------------------------- ------------- 11.8/17.7 MB 8.5 MB/s eta 0:00:01\n",
      "   -------------------------------- ------- 14.4/17.7 MB 9.1 MB/s eta 0:00:01\n",
      "   -------------------------------------- - 17.0/17.7 MB 9.3 MB/s eta 0:00:01\n",
      "   ---------------------------------------- 17.7/17.7 MB 9.1 MB/s eta 0:00:00\n",
      "Installing collected packages: pulp\n",
      "Successfully installed pulp-3.0.2\n",
      "Note: you may need to restart the kernel to use updated packages.\n"
     ]
    },
    {
     "name": "stderr",
     "output_type": "stream",
     "text": [
      "\n",
      "[notice] A new release of pip is available: 25.0 -> 25.0.1\n",
      "[notice] To update, run: python.exe -m pip install --upgrade pip\n"
     ]
    }
   ],
   "source": [
    "pip install pulp"
   ]
  },
  {
   "cell_type": "code",
   "execution_count": null,
   "metadata": {},
   "outputs": [],
   "source": []
  }
 ],
 "metadata": {
  "kernelspec": {
   "display_name": ".venv",
   "language": "python",
   "name": "python3"
  },
  "language_info": {
   "codemirror_mode": {
    "name": "ipython",
    "version": 3
   },
   "file_extension": ".py",
   "mimetype": "text/x-python",
   "name": "python",
   "nbconvert_exporter": "python",
   "pygments_lexer": "ipython3",
   "version": "3.13.1"
  }
 },
 "nbformat": 4,
 "nbformat_minor": 2
}
