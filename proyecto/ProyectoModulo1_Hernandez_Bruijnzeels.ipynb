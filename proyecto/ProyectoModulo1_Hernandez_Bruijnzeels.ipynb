{
 "cells": [
  {
   "cell_type": "code",
   "execution_count": null,
   "metadata": {},
   "outputs": [],
   "source": [
    "import pandas as pd\n",
    "import numpy as np\n",
    "\n",
    "# Cargar el archivo con las vigas disponibles\n",
    "def cargar_datos_vigas():\n",
    "    df_vigas = pd.read_csv(\"datos_vigas.csv\")  # Asegúrate de que el archivo está en la misma carpeta o proporciona la ruta\n",
    "    return df_vigas\n",
    "\n",
    "# Selección de viga basada en carga y claro requerido\n",
    "def seleccionar_viga(carga_por_metro, claro):\n",
    "    df_vigas = cargar_datos_vigas()\n",
    "    df_vigas[\"Carga_Resistencia\"] = df_vigas[\"Modulo_Seccion_X_cm3\"] / claro  # Estimación de resistencia por metro\n",
    "    \n",
    "    # Filtrar vigas que soporten la carga requerida\n",
    "    df_vigas_filtradas = df_vigas[df_vigas[\"Carga_Resistencia\"] >= carga_por_metro]\n",
    "    \n",
    "    if df_vigas_filtradas.empty:\n",
    "        print(\"No hay vigas que cumplan con los requisitos.\")\n",
    "        return None\n",
    "    \n",
    "    # Seleccionar la viga con menor peso por metro que cumpla con la carga\n",
    "    mejor_viga = df_vigas_filtradas.loc[df_vigas_filtradas[\"Peso_kg_m\"].idxmin()]\n",
    "    \n",
    "    print(\"\\nMejor viga seleccionada basada en la carga y claro requerido:\")\n",
    "    print(f\"Designación: {mejor_viga['Designacion']}, Peralte: {mejor_viga['Peralte_mm']} mm\")\n",
    "    print(f\"Peso: {mejor_viga['Peso_kg_m']} kg/m, Resistencia: {mejor_viga['Modulo_Seccion_X_cm3']} cm³\")\n",
    "    return mejor_viga\n",
    "\n",
    "if __name__ == \"__main__\":\n",
    "    print(\"Ingrese los requisitos del cliente para la selección de la viga óptima:\")\n",
    "    carga_por_metro = float(input(\"Ingrese la carga que debe soportar la viga por metro lineal (en kg/m): \"))\n",
    "    claro = float(input(\"Ingrese la longitud del claro a cubrir con la viga (en metros): \"))\n",
    "    \n",
    "    mejor_viga = seleccionar_viga(carga_por_metro, claro)"
   ]
  },
  {
   "cell_type": "code",
   "execution_count": null,
   "metadata": {},
   "outputs": [],
   "source": []
  }
 ],
 "metadata": {
  "kernelspec": {
   "display_name": ".venv",
   "language": "python",
   "name": "python3"
  },
  "language_info": {
   "name": "python",
   "version": "3.13.1"
  }
 },
 "nbformat": 4,
 "nbformat_minor": 2
}
