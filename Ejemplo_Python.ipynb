{
 "cells": [
  {
   "cell_type": "markdown",
   "metadata": {},
   "source": [
    "# hello world"
   ]
  },
  {
   "cell_type": "code",
   "execution_count": null,
   "metadata": {},
   "outputs": [],
   "source": []
  },
  {
   "cell_type": "code",
   "execution_count": 1,
   "metadata": {},
   "outputs": [
    {
     "name": "stdout",
     "output_type": "stream",
     "text": [
      "pip 25.0 from c:\\Users\\Roberto Bruijnzeels\\Documents\\ITESO\\SEMESTRE 10\\Simulacion matematica v2\\proyecto en clase\\.venv\\Lib\\site-packages\\pip (python 3.13)\n",
      "\n",
      "Note: you may need to restart the kernel to use updated packages.\n"
     ]
    }
   ],
   "source": [
    "pip --version\n"
   ]
  },
  {
   "cell_type": "code",
   "execution_count": 2,
   "metadata": {},
   "outputs": [
    {
     "name": "stdout",
     "output_type": "stream",
     "text": [
      "pip 25.0 from c:\\Users\\Roberto Bruijnzeels\\Documents\\ITESO\\SEMESTRE 10\\Simulacion matematica v2\\proyecto en clase\\.venv\\Lib\\site-packages\\pip (python 3.13)\n",
      "\n",
      "Note: you may need to restart the kernel to use updated packages.\n"
     ]
    }
   ],
   "source": [
    "pip --version\n"
   ]
  },
  {
   "cell_type": "code",
   "execution_count": 3,
   "metadata": {},
   "outputs": [
    {
     "ename": "SyntaxError",
     "evalue": "invalid syntax (24040424.py, line 1)",
     "output_type": "error",
     "traceback": [
      "\u001b[1;36m  Cell \u001b[1;32mIn[3], line 1\u001b[1;36m\u001b[0m\n\u001b[1;33m    python -m ensurepip --upgrade\u001b[0m\n\u001b[1;37m              ^\u001b[0m\n\u001b[1;31mSyntaxError\u001b[0m\u001b[1;31m:\u001b[0m invalid syntax\n"
     ]
    }
   ],
   "source": [
    "python -m ensurepip --upgrade"
   ]
  },
  {
   "cell_type": "code",
   "execution_count": 1,
   "metadata": {},
   "outputs": [
    {
     "name": "stdout",
     "output_type": "stream",
     "text": [
      "hello world\n"
     ]
    }
   ],
   "source": [
    "print(\"hello world\")"
   ]
  },
  {
   "cell_type": "code",
   "execution_count": 1,
   "metadata": {},
   "outputs": [
    {
     "name": "stdout",
     "output_type": "stream",
     "text": [
      "helo world\n"
     ]
    }
   ],
   "source": [
    "print(\"helo world\")"
   ]
  },
  {
   "cell_type": "code",
   "execution_count": 2,
   "metadata": {},
   "outputs": [
    {
     "ename": "ModuleNotFoundError",
     "evalue": "No module named 'numpy'",
     "output_type": "error",
     "traceback": [
      "\u001b[1;31m---------------------------------------------------------------------------\u001b[0m",
      "\u001b[1;31mModuleNotFoundError\u001b[0m                       Traceback (most recent call last)",
      "Cell \u001b[1;32mIn[2], line 1\u001b[0m\n\u001b[1;32m----> 1\u001b[0m \u001b[38;5;28;01mimport\u001b[39;00m\u001b[38;5;250m \u001b[39m\u001b[38;5;21;01mnumpy\u001b[39;00m\u001b[38;5;250m \u001b[39m\u001b[38;5;28;01mas\u001b[39;00m\u001b[38;5;250m \u001b[39m\u001b[38;5;21;01mnp\u001b[39;00m\n\u001b[0;32m      2\u001b[0m \u001b[38;5;66;03m# Crear un array y calcular su suma\u001b[39;00m\n\u001b[0;32m      3\u001b[0m array \u001b[38;5;241m=\u001b[39m np\u001b[38;5;241m.\u001b[39marray([\u001b[38;5;241m1\u001b[39m, \u001b[38;5;241m2\u001b[39m, \u001b[38;5;241m3\u001b[39m, \u001b[38;5;241m4\u001b[39m, \u001b[38;5;241m5\u001b[39m])\n",
      "\u001b[1;31mModuleNotFoundError\u001b[0m: No module named 'numpy'"
     ]
    }
   ],
   "source": []
  },
  {
   "cell_type": "code",
   "execution_count": 1,
   "metadata": {},
   "outputs": [
    {
     "name": "stdout",
     "output_type": "stream",
     "text": [
      "Collecting numpy\n",
      "  Downloading numpy-2.2.2-cp313-cp313-win_amd64.whl.metadata (60 kB)\n",
      "Downloading numpy-2.2.2-cp313-cp313-win_amd64.whl (12.6 MB)\n",
      "   ---------------------------------------- 0.0/12.6 MB ? eta -:--:--\n",
      "    --------------------------------------- 0.3/12.6 MB ? eta -:--:--\n",
      "   - -------------------------------------- 0.5/12.6 MB 2.0 MB/s eta 0:00:07\n",
      "   --- ------------------------------------ 1.0/12.6 MB 2.1 MB/s eta 0:00:06\n",
      "   ----- ---------------------------------- 1.8/12.6 MB 2.5 MB/s eta 0:00:05\n",
      "   -------- ------------------------------- 2.6/12.6 MB 2.7 MB/s eta 0:00:04\n",
      "   ---------- ----------------------------- 3.4/12.6 MB 2.9 MB/s eta 0:00:04\n",
      "   ------------- -------------------------- 4.2/12.6 MB 3.1 MB/s eta 0:00:03\n",
      "   ---------------- ----------------------- 5.2/12.6 MB 3.4 MB/s eta 0:00:03\n",
      "   -------------------- ------------------- 6.6/12.6 MB 3.7 MB/s eta 0:00:02\n",
      "   ------------------------- -------------- 8.1/12.6 MB 4.1 MB/s eta 0:00:02\n",
      "   ----------------------------- ---------- 9.2/12.6 MB 4.2 MB/s eta 0:00:01\n",
      "   --------------------------------- ------ 10.5/12.6 MB 4.4 MB/s eta 0:00:01\n",
      "   ---------------------------------------  12.3/12.6 MB 4.7 MB/s eta 0:00:01\n",
      "   ---------------------------------------- 12.6/12.6 MB 4.7 MB/s eta 0:00:00\n",
      "Installing collected packages: numpy\n",
      "Successfully installed numpy-2.2.2\n",
      "Note: you may need to restart the kernel to use updated packages.\n"
     ]
    }
   ],
   "source": [
    "pip install numpy"
   ]
  },
  {
   "cell_type": "code",
   "execution_count": 2,
   "metadata": {},
   "outputs": [
    {
     "name": "stdout",
     "output_type": "stream",
     "text": [
      "Collecting sympy\n",
      "  Downloading sympy-1.13.3-py3-none-any.whl.metadata (12 kB)\n",
      "Collecting mpmath<1.4,>=1.1.0 (from sympy)\n",
      "  Downloading mpmath-1.3.0-py3-none-any.whl.metadata (8.6 kB)\n",
      "Downloading sympy-1.13.3-py3-none-any.whl (6.2 MB)\n",
      "   ---------------------------------------- 0.0/6.2 MB ? eta -:--:--\n",
      "   --- ------------------------------------ 0.5/6.2 MB 4.0 MB/s eta 0:00:02\n",
      "   ------------------ --------------------- 2.9/6.2 MB 9.1 MB/s eta 0:00:01\n",
      "   --------------------------------- ------ 5.2/6.2 MB 10.2 MB/s eta 0:00:01\n",
      "   ---------------------------------------- 6.2/6.2 MB 9.5 MB/s eta 0:00:00\n",
      "Downloading mpmath-1.3.0-py3-none-any.whl (536 kB)\n",
      "   ---------------------------------------- 0.0/536.2 kB ? eta -:--:--\n",
      "   --------------------------------------- 536.2/536.2 kB 10.8 MB/s eta 0:00:00\n",
      "Installing collected packages: mpmath, sympy\n",
      "Successfully installed mpmath-1.3.0 sympy-1.13.3\n",
      "Note: you may need to restart the kernel to use updated packages.\n"
     ]
    }
   ],
   "source": [
    "pip install sympy"
   ]
  },
  {
   "cell_type": "code",
   "execution_count": 3,
   "metadata": {},
   "outputs": [
    {
     "name": "stdout",
     "output_type": "stream",
     "text": [
      "Collecting matplotlib\n",
      "  Downloading matplotlib-3.10.0-cp313-cp313-win_amd64.whl.metadata (11 kB)\n",
      "Collecting contourpy>=1.0.1 (from matplotlib)\n",
      "  Downloading contourpy-1.3.1-cp313-cp313-win_amd64.whl.metadata (5.4 kB)\n",
      "Collecting cycler>=0.10 (from matplotlib)\n",
      "  Downloading cycler-0.12.1-py3-none-any.whl.metadata (3.8 kB)\n",
      "Collecting fonttools>=4.22.0 (from matplotlib)\n",
      "  Downloading fonttools-4.55.7-cp313-cp313-win_amd64.whl.metadata (102 kB)\n",
      "Collecting kiwisolver>=1.3.1 (from matplotlib)\n",
      "  Downloading kiwisolver-1.4.8-cp313-cp313-win_amd64.whl.metadata (6.3 kB)\n",
      "Requirement already satisfied: numpy>=1.23 in c:\\users\\roberto bruijnzeels\\documents\\iteso\\semestre 10\\simulacion matematica v2\\proyecto en clase\\.venv\\lib\\site-packages (from matplotlib) (2.2.2)\n",
      "Requirement already satisfied: packaging>=20.0 in c:\\users\\roberto bruijnzeels\\documents\\iteso\\semestre 10\\simulacion matematica v2\\proyecto en clase\\.venv\\lib\\site-packages (from matplotlib) (24.2)\n",
      "Collecting pillow>=8 (from matplotlib)\n",
      "  Downloading pillow-11.1.0-cp313-cp313-win_amd64.whl.metadata (9.3 kB)\n",
      "Collecting pyparsing>=2.3.1 (from matplotlib)\n",
      "  Downloading pyparsing-3.2.1-py3-none-any.whl.metadata (5.0 kB)\n",
      "Requirement already satisfied: python-dateutil>=2.7 in c:\\users\\roberto bruijnzeels\\documents\\iteso\\semestre 10\\simulacion matematica v2\\proyecto en clase\\.venv\\lib\\site-packages (from matplotlib) (2.9.0.post0)\n",
      "Requirement already satisfied: six>=1.5 in c:\\users\\roberto bruijnzeels\\documents\\iteso\\semestre 10\\simulacion matematica v2\\proyecto en clase\\.venv\\lib\\site-packages (from python-dateutil>=2.7->matplotlib) (1.17.0)\n",
      "Downloading matplotlib-3.10.0-cp313-cp313-win_amd64.whl (8.0 MB)\n",
      "   ---------------------------------------- 0.0/8.0 MB ? eta -:--:--\n",
      "   ----- ---------------------------------- 1.0/8.0 MB 6.8 MB/s eta 0:00:02\n",
      "   -------------- ------------------------- 2.9/8.0 MB 8.2 MB/s eta 0:00:01\n",
      "   --------------------------- ------------ 5.5/8.0 MB 9.7 MB/s eta 0:00:01\n",
      "   ---------------------------------------  7.9/8.0 MB 10.2 MB/s eta 0:00:01\n",
      "   ---------------------------------------- 8.0/8.0 MB 9.7 MB/s eta 0:00:00\n",
      "Downloading contourpy-1.3.1-cp313-cp313-win_amd64.whl (220 kB)\n",
      "Downloading cycler-0.12.1-py3-none-any.whl (8.3 kB)\n",
      "Downloading fonttools-4.55.7-cp313-cp313-win_amd64.whl (2.2 MB)\n",
      "   ---------------------------------------- 0.0/2.2 MB ? eta -:--:--\n",
      "   ---------------------------------------- 2.2/2.2 MB 12.6 MB/s eta 0:00:00\n",
      "Downloading kiwisolver-1.4.8-cp313-cp313-win_amd64.whl (71 kB)\n",
      "Downloading pillow-11.1.0-cp313-cp313-win_amd64.whl (2.6 MB)\n",
      "   ---------------------------------------- 0.0/2.6 MB ? eta -:--:--\n",
      "   ------------------------------- -------- 2.1/2.6 MB 11.9 MB/s eta 0:00:01\n",
      "   ---------------------------------------- 2.6/2.6 MB 11.3 MB/s eta 0:00:00\n",
      "Downloading pyparsing-3.2.1-py3-none-any.whl (107 kB)\n",
      "Installing collected packages: pyparsing, pillow, kiwisolver, fonttools, cycler, contourpy, matplotlib\n",
      "Successfully installed contourpy-1.3.1 cycler-0.12.1 fonttools-4.55.7 kiwisolver-1.4.8 matplotlib-3.10.0 pillow-11.1.0 pyparsing-3.2.1\n",
      "Note: you may need to restart the kernel to use updated packages.\n"
     ]
    }
   ],
   "source": [
    "pip install matplotlib "
   ]
  },
  {
   "cell_type": "code",
   "execution_count": 1,
   "metadata": {},
   "outputs": [
    {
     "name": "stdout",
     "output_type": "stream",
     "text": [
      "Collecting pandas\n",
      "  Downloading pandas-2.2.3-cp313-cp313-win_amd64.whl.metadata (19 kB)\n",
      "Requirement already satisfied: numpy>=1.26.0 in c:\\users\\roberto bruijnzeels\\documents\\iteso\\semestre 10\\simulacion matematica v2\\proyecto en clase\\.venv\\lib\\site-packages (from pandas) (2.2.2)\n",
      "Requirement already satisfied: python-dateutil>=2.8.2 in c:\\users\\roberto bruijnzeels\\documents\\iteso\\semestre 10\\simulacion matematica v2\\proyecto en clase\\.venv\\lib\\site-packages (from pandas) (2.9.0.post0)\n",
      "Collecting pytz>=2020.1 (from pandas)\n",
      "  Downloading pytz-2024.2-py2.py3-none-any.whl.metadata (22 kB)\n",
      "Collecting tzdata>=2022.7 (from pandas)\n",
      "  Downloading tzdata-2025.1-py2.py3-none-any.whl.metadata (1.4 kB)\n",
      "Requirement already satisfied: six>=1.5 in c:\\users\\roberto bruijnzeels\\documents\\iteso\\semestre 10\\simulacion matematica v2\\proyecto en clase\\.venv\\lib\\site-packages (from python-dateutil>=2.8.2->pandas) (1.17.0)\n",
      "Downloading pandas-2.2.3-cp313-cp313-win_amd64.whl (11.5 MB)\n",
      "   ---------------------------------------- 0.0/11.5 MB ? eta -:--:--\n",
      "   -- ------------------------------------- 0.8/11.5 MB 5.3 MB/s eta 0:00:03\n",
      "   --------- ------------------------------ 2.6/11.5 MB 8.1 MB/s eta 0:00:02\n",
      "   ---------------- ----------------------- 4.7/11.5 MB 8.5 MB/s eta 0:00:01\n",
      "   ---------------------- ----------------- 6.6/11.5 MB 8.7 MB/s eta 0:00:01\n",
      "   ------------------------------- -------- 8.9/11.5 MB 9.0 MB/s eta 0:00:01\n",
      "   ---------------------------------------  11.3/11.5 MB 9.5 MB/s eta 0:00:01\n",
      "   ---------------------------------------- 11.5/11.5 MB 9.2 MB/s eta 0:00:00\n",
      "Downloading pytz-2024.2-py2.py3-none-any.whl (508 kB)\n",
      "Downloading tzdata-2025.1-py2.py3-none-any.whl (346 kB)\n",
      "Installing collected packages: pytz, tzdata, pandas\n",
      "Successfully installed pandas-2.2.3 pytz-2024.2 tzdata-2025.1\n",
      "Note: you may need to restart the kernel to use updated packages.\n"
     ]
    }
   ],
   "source": [
    "pip install pandas "
   ]
  },
  {
   "cell_type": "code",
   "execution_count": 1,
   "metadata": {},
   "outputs": [
    {
     "name": "stdout",
     "output_type": "stream",
     "text": [
      "Collecting scipy\n",
      "  Downloading scipy-1.15.1-cp313-cp313-win_amd64.whl.metadata (60 kB)\n",
      "Requirement already satisfied: numpy<2.5,>=1.23.5 in c:\\users\\roberto bruijnzeels\\documents\\iteso\\semestre 10\\simulacion matematica v2\\proyecto en clase\\.venv\\lib\\site-packages (from scipy) (2.2.2)\n",
      "Downloading scipy-1.15.1-cp313-cp313-win_amd64.whl (43.6 MB)\n",
      "   ---------------------------------------- 0.0/43.6 MB ? eta -:--:--\n",
      "    --------------------------------------- 1.0/43.6 MB 8.1 MB/s eta 0:00:06\n",
      "   --- ------------------------------------ 3.4/43.6 MB 9.7 MB/s eta 0:00:05\n",
      "   ----- ---------------------------------- 6.3/43.6 MB 11.4 MB/s eta 0:00:04\n",
      "   -------- ------------------------------- 9.4/43.6 MB 12.6 MB/s eta 0:00:03\n",
      "   ---------- ----------------------------- 11.5/43.6 MB 12.1 MB/s eta 0:00:03\n",
      "   ------------- -------------------------- 14.4/43.6 MB 12.5 MB/s eta 0:00:03\n",
      "   --------------- ------------------------ 17.3/43.6 MB 12.5 MB/s eta 0:00:03\n",
      "   ------------------ --------------------- 19.9/43.6 MB 12.4 MB/s eta 0:00:02\n",
      "   -------------------- ------------------- 22.5/43.6 MB 12.4 MB/s eta 0:00:02\n",
      "   ----------------------- ---------------- 25.4/43.6 MB 12.5 MB/s eta 0:00:02\n",
      "   ------------------------- -------------- 27.8/43.6 MB 12.4 MB/s eta 0:00:02\n",
      "   --------------------------- ------------ 30.4/43.6 MB 12.5 MB/s eta 0:00:02\n",
      "   ----------------------------- ---------- 32.5/43.6 MB 12.2 MB/s eta 0:00:01\n",
      "   ------------------------------- -------- 34.9/43.6 MB 12.3 MB/s eta 0:00:01\n",
      "   ---------------------------------- ----- 37.5/43.6 MB 12.2 MB/s eta 0:00:01\n",
      "   ------------------------------------- -- 40.4/43.6 MB 12.3 MB/s eta 0:00:01\n",
      "   ---------------------------------------  43.0/43.6 MB 12.4 MB/s eta 0:00:01\n",
      "   ---------------------------------------- 43.6/43.6 MB 11.9 MB/s eta 0:00:00\n",
      "Installing collected packages: scipy\n",
      "Successfully installed scipy-1.15.1\n",
      "Note: you may need to restart the kernel to use updated packages.\n"
     ]
    }
   ],
   "source": [
    "pip install scipy"
   ]
  },
  {
   "cell_type": "code",
   "execution_count": 1,
   "metadata": {},
   "outputs": [
    {
     "name": "stdout",
     "output_type": "stream",
     "text": [
      "Collecting yfinance\n",
      "  Downloading yfinance-0.2.52-py2.py3-none-any.whl.metadata (5.8 kB)\n",
      "Requirement already satisfied: pandas>=1.3.0 in c:\\users\\roberto bruijnzeels\\documents\\iteso\\semestre 10\\simulacion matematica v2\\proyecto en clase\\.venv\\lib\\site-packages (from yfinance) (2.2.3)\n",
      "Requirement already satisfied: numpy>=1.16.5 in c:\\users\\roberto bruijnzeels\\documents\\iteso\\semestre 10\\simulacion matematica v2\\proyecto en clase\\.venv\\lib\\site-packages (from yfinance) (2.2.2)\n",
      "Collecting requests>=2.31 (from yfinance)\n",
      "  Downloading requests-2.32.3-py3-none-any.whl.metadata (4.6 kB)\n",
      "Collecting multitasking>=0.0.7 (from yfinance)\n",
      "  Downloading multitasking-0.0.11-py3-none-any.whl.metadata (5.5 kB)\n",
      "Collecting lxml>=4.9.1 (from yfinance)\n",
      "  Downloading lxml-5.3.0-cp313-cp313-win_amd64.whl.metadata (3.9 kB)\n",
      "Requirement already satisfied: platformdirs>=2.0.0 in c:\\users\\roberto bruijnzeels\\documents\\iteso\\semestre 10\\simulacion matematica v2\\proyecto en clase\\.venv\\lib\\site-packages (from yfinance) (4.3.6)\n",
      "Requirement already satisfied: pytz>=2022.5 in c:\\users\\roberto bruijnzeels\\documents\\iteso\\semestre 10\\simulacion matematica v2\\proyecto en clase\\.venv\\lib\\site-packages (from yfinance) (2024.2)\n",
      "Collecting frozendict>=2.3.4 (from yfinance)\n",
      "  Downloading frozendict-2.4.6-py313-none-any.whl.metadata (23 kB)\n",
      "Collecting peewee>=3.16.2 (from yfinance)\n",
      "  Downloading peewee-3.17.8.tar.gz (948 kB)\n",
      "     ---------------------------------------- 0.0/948.2 kB ? eta -:--:--\n",
      "     ------------------------------- ------ 786.4/948.2 kB 5.0 MB/s eta 0:00:01\n",
      "     -------------------------------------- 948.2/948.2 kB 5.6 MB/s eta 0:00:00\n",
      "  Installing build dependencies: started\n",
      "  Installing build dependencies: finished with status 'done'\n",
      "  Getting requirements to build wheel: started\n",
      "  Getting requirements to build wheel: finished with status 'done'\n",
      "  Preparing metadata (pyproject.toml): started\n",
      "  Preparing metadata (pyproject.toml): finished with status 'done'\n",
      "Collecting beautifulsoup4>=4.11.1 (from yfinance)\n",
      "  Downloading beautifulsoup4-4.12.3-py3-none-any.whl.metadata (3.8 kB)\n",
      "Collecting html5lib>=1.1 (from yfinance)\n",
      "  Downloading html5lib-1.1-py2.py3-none-any.whl.metadata (16 kB)\n",
      "Collecting soupsieve>1.2 (from beautifulsoup4>=4.11.1->yfinance)\n",
      "  Downloading soupsieve-2.6-py3-none-any.whl.metadata (4.6 kB)\n",
      "Requirement already satisfied: six>=1.9 in c:\\users\\roberto bruijnzeels\\documents\\iteso\\semestre 10\\simulacion matematica v2\\proyecto en clase\\.venv\\lib\\site-packages (from html5lib>=1.1->yfinance) (1.17.0)\n",
      "Collecting webencodings (from html5lib>=1.1->yfinance)\n",
      "  Downloading webencodings-0.5.1-py2.py3-none-any.whl.metadata (2.1 kB)\n",
      "Requirement already satisfied: python-dateutil>=2.8.2 in c:\\users\\roberto bruijnzeels\\documents\\iteso\\semestre 10\\simulacion matematica v2\\proyecto en clase\\.venv\\lib\\site-packages (from pandas>=1.3.0->yfinance) (2.9.0.post0)\n",
      "Requirement already satisfied: tzdata>=2022.7 in c:\\users\\roberto bruijnzeels\\documents\\iteso\\semestre 10\\simulacion matematica v2\\proyecto en clase\\.venv\\lib\\site-packages (from pandas>=1.3.0->yfinance) (2025.1)\n",
      "Collecting charset-normalizer<4,>=2 (from requests>=2.31->yfinance)\n",
      "  Downloading charset_normalizer-3.4.1-cp313-cp313-win_amd64.whl.metadata (36 kB)\n",
      "Collecting idna<4,>=2.5 (from requests>=2.31->yfinance)\n",
      "  Downloading idna-3.10-py3-none-any.whl.metadata (10 kB)\n",
      "Collecting urllib3<3,>=1.21.1 (from requests>=2.31->yfinance)\n",
      "  Downloading urllib3-2.3.0-py3-none-any.whl.metadata (6.5 kB)\n",
      "Collecting certifi>=2017.4.17 (from requests>=2.31->yfinance)\n",
      "  Downloading certifi-2024.12.14-py3-none-any.whl.metadata (2.3 kB)\n",
      "Downloading yfinance-0.2.52-py2.py3-none-any.whl (108 kB)\n",
      "Downloading beautifulsoup4-4.12.3-py3-none-any.whl (147 kB)\n",
      "Downloading frozendict-2.4.6-py313-none-any.whl (16 kB)\n",
      "Downloading html5lib-1.1-py2.py3-none-any.whl (112 kB)\n",
      "Downloading lxml-5.3.0-cp313-cp313-win_amd64.whl (3.8 MB)\n",
      "   ---------------------------------------- 0.0/3.8 MB ? eta -:--:--\n",
      "   ------------------------------ --------- 2.9/3.8 MB 15.4 MB/s eta 0:00:01\n",
      "   ---------------------------------------- 3.8/3.8 MB 13.5 MB/s eta 0:00:00\n",
      "Downloading multitasking-0.0.11-py3-none-any.whl (8.5 kB)\n",
      "Downloading requests-2.32.3-py3-none-any.whl (64 kB)\n",
      "Downloading certifi-2024.12.14-py3-none-any.whl (164 kB)\n",
      "Downloading charset_normalizer-3.4.1-cp313-cp313-win_amd64.whl (102 kB)\n",
      "Downloading idna-3.10-py3-none-any.whl (70 kB)\n",
      "Downloading soupsieve-2.6-py3-none-any.whl (36 kB)\n",
      "Downloading urllib3-2.3.0-py3-none-any.whl (128 kB)\n",
      "Downloading webencodings-0.5.1-py2.py3-none-any.whl (11 kB)\n",
      "Building wheels for collected packages: peewee\n",
      "  Building wheel for peewee (pyproject.toml): started\n",
      "  Building wheel for peewee (pyproject.toml): finished with status 'done'\n",
      "  Created wheel for peewee: filename=peewee-3.17.8-py3-none-any.whl size=139064 sha256=5597e89a118e22a77c4a64f620e0fa77eda788f071f4a68c41cbc165c6efacf4\n",
      "  Stored in directory: c:\\users\\roberto bruijnzeels\\appdata\\local\\pip\\cache\\wheels\\b2\\69\\9e\\5485afcc187c66def1fab96de510fa77da574ec5343f3a5f89\n",
      "Successfully built peewee\n",
      "Installing collected packages: webencodings, peewee, multitasking, urllib3, soupsieve, lxml, idna, html5lib, frozendict, charset-normalizer, certifi, requests, beautifulsoup4, yfinance\n",
      "Successfully installed beautifulsoup4-4.12.3 certifi-2024.12.14 charset-normalizer-3.4.1 frozendict-2.4.6 html5lib-1.1 idna-3.10 lxml-5.3.0 multitasking-0.0.11 peewee-3.17.8 requests-2.32.3 soupsieve-2.6 urllib3-2.3.0 webencodings-0.5.1 yfinance-0.2.52\n",
      "Note: you may need to restart the kernel to use updated packages.\n"
     ]
    }
   ],
   "source": [
    "pip install yfinance\n"
   ]
  },
  {
   "cell_type": "code",
   "execution_count": 1,
   "metadata": {},
   "outputs": [
    {
     "name": "stdout",
     "output_type": "stream",
     "text": [
      "Collecting geopandas[complete]\n",
      "  Downloading geopandas-1.0.1-py3-none-any.whl.metadata (2.2 kB)\n",
      "Requirement already satisfied: numpy>=1.22 in c:\\users\\roberto bruijnzeels\\documents\\iteso\\semestre 10\\simulacion matematica v2\\proyecto en clase\\.venv\\lib\\site-packages (from geopandas[complete]) (2.2.2)\n",
      "Collecting pyogrio>=0.7.2 (from geopandas[complete])\n",
      "  Downloading pyogrio-0.10.0-cp313-cp313-win_amd64.whl.metadata (5.6 kB)\n",
      "Requirement already satisfied: packaging in c:\\users\\roberto bruijnzeels\\documents\\iteso\\semestre 10\\simulacion matematica v2\\proyecto en clase\\.venv\\lib\\site-packages (from geopandas[complete]) (24.2)\n",
      "Requirement already satisfied: pandas>=1.4.0 in c:\\users\\roberto bruijnzeels\\documents\\iteso\\semestre 10\\simulacion matematica v2\\proyecto en clase\\.venv\\lib\\site-packages (from geopandas[complete]) (2.2.3)\n",
      "Collecting pyproj>=3.3.0 (from geopandas[complete])\n",
      "  Downloading pyproj-3.7.0-cp313-cp313-win_amd64.whl.metadata (31 kB)\n",
      "Collecting shapely>=2.0.0 (from geopandas[complete])\n",
      "  Downloading shapely-2.0.6-cp313-cp313-win_amd64.whl.metadata (7.2 kB)\n",
      "Requirement already satisfied: python-dateutil>=2.8.2 in c:\\users\\roberto bruijnzeels\\documents\\iteso\\semestre 10\\simulacion matematica v2\\proyecto en clase\\.venv\\lib\\site-packages (from pandas>=1.4.0->geopandas[complete]) (2.9.0.post0)\n",
      "Requirement already satisfied: pytz>=2020.1 in c:\\users\\roberto bruijnzeels\\documents\\iteso\\semestre 10\\simulacion matematica v2\\proyecto en clase\\.venv\\lib\\site-packages (from pandas>=1.4.0->geopandas[complete]) (2024.2)\n",
      "Requirement already satisfied: tzdata>=2022.7 in c:\\users\\roberto bruijnzeels\\documents\\iteso\\semestre 10\\simulacion matematica v2\\proyecto en clase\\.venv\\lib\\site-packages (from pandas>=1.4.0->geopandas[complete]) (2025.1)\n",
      "Requirement already satisfied: certifi in c:\\users\\roberto bruijnzeels\\documents\\iteso\\semestre 10\\simulacion matematica v2\\proyecto en clase\\.venv\\lib\\site-packages (from pyogrio>=0.7.2->geopandas[complete]) (2024.12.14)\n",
      "Requirement already satisfied: six>=1.5 in c:\\users\\roberto bruijnzeels\\documents\\iteso\\semestre 10\\simulacion matematica v2\\proyecto en clase\\.venv\\lib\\site-packages (from python-dateutil>=2.8.2->pandas>=1.4.0->geopandas[complete]) (1.17.0)\n",
      "Downloading pyogrio-0.10.0-cp313-cp313-win_amd64.whl (16.2 MB)\n",
      "   ---------------------------------------- 0.0/16.2 MB ? eta -:--:--\n",
      "   - -------------------------------------- 0.8/16.2 MB 8.0 MB/s eta 0:00:02\n",
      "   ----- ---------------------------------- 2.1/16.2 MB 6.2 MB/s eta 0:00:03\n",
      "   ---------- ----------------------------- 4.2/16.2 MB 7.4 MB/s eta 0:00:02\n",
      "   ----------------- ---------------------- 7.1/16.2 MB 9.2 MB/s eta 0:00:01\n",
      "   ---------------------- ----------------- 9.2/16.2 MB 9.5 MB/s eta 0:00:01\n",
      "   ----------------------------- ---------- 12.1/16.2 MB 10.2 MB/s eta 0:00:01\n",
      "   ------------------------------------ --- 14.7/16.2 MB 10.5 MB/s eta 0:00:01\n",
      "   ---------------------------------------- 16.2/16.2 MB 10.4 MB/s eta 0:00:00\n",
      "Downloading pyproj-3.7.0-cp313-cp313-win_amd64.whl (6.2 MB)\n",
      "   ---------------------------------------- 0.0/6.2 MB ? eta -:--:--\n",
      "   -------------------- ------------------- 3.1/6.2 MB 16.7 MB/s eta 0:00:01\n",
      "   -------------------------------------- - 6.0/6.2 MB 16.0 MB/s eta 0:00:01\n",
      "   ---------------------------------------- 6.2/6.2 MB 14.7 MB/s eta 0:00:00\n",
      "Downloading shapely-2.0.6-cp313-cp313-win_amd64.whl (1.4 MB)\n",
      "   ---------------------------------------- 0.0/1.4 MB ? eta -:--:--\n",
      "   ---------------------------------------- 1.4/1.4 MB 15.1 MB/s eta 0:00:00\n",
      "Downloading geopandas-1.0.1-py3-none-any.whl (323 kB)\n",
      "Installing collected packages: shapely, pyproj, pyogrio, geopandas\n",
      "Successfully installed geopandas-1.0.1 pyogrio-0.10.0 pyproj-3.7.0 shapely-2.0.6\n",
      "Note: you may need to restart the kernel to use updated packages.\n"
     ]
    },
    {
     "name": "stderr",
     "output_type": "stream",
     "text": [
      "WARNING: geopandas 1.0.1 does not provide the extra 'complete'\n"
     ]
    }
   ],
   "source": [
    "pip install geopandas[complete]"
   ]
  },
  {
   "cell_type": "code",
   "execution_count": 1,
   "metadata": {},
   "outputs": [
    {
     "name": "stdout",
     "output_type": "stream",
     "text": [
      "Collecting scikit-learn\n",
      "  Downloading scikit_learn-1.6.1-cp313-cp313-win_amd64.whl.metadata (15 kB)\n",
      "Requirement already satisfied: numpy>=1.19.5 in c:\\users\\roberto bruijnzeels\\documents\\iteso\\semestre 10\\simulacion matematica v2\\proyecto en clase\\.venv\\lib\\site-packages (from scikit-learn) (2.2.2)\n",
      "Requirement already satisfied: scipy>=1.6.0 in c:\\users\\roberto bruijnzeels\\documents\\iteso\\semestre 10\\simulacion matematica v2\\proyecto en clase\\.venv\\lib\\site-packages (from scikit-learn) (1.15.1)\n",
      "Collecting joblib>=1.2.0 (from scikit-learn)\n",
      "  Downloading joblib-1.4.2-py3-none-any.whl.metadata (5.4 kB)\n",
      "Collecting threadpoolctl>=3.1.0 (from scikit-learn)\n",
      "  Downloading threadpoolctl-3.5.0-py3-none-any.whl.metadata (13 kB)\n",
      "Downloading scikit_learn-1.6.1-cp313-cp313-win_amd64.whl (11.1 MB)\n",
      "   ---------------------------------------- 0.0/11.1 MB ? eta -:--:--\n",
      "   -- ------------------------------------- 0.8/11.1 MB 5.8 MB/s eta 0:00:02\n",
      "   ------------ --------------------------- 3.4/11.1 MB 10.9 MB/s eta 0:00:01\n",
      "   ---------------------- ----------------- 6.3/11.1 MB 13.3 MB/s eta 0:00:01\n",
      "   --------------------------------- ------ 9.2/11.1 MB 12.8 MB/s eta 0:00:01\n",
      "   ---------------------------------------- 11.1/11.1 MB 12.2 MB/s eta 0:00:00\n",
      "Downloading joblib-1.4.2-py3-none-any.whl (301 kB)\n",
      "Downloading threadpoolctl-3.5.0-py3-none-any.whl (18 kB)\n",
      "Installing collected packages: threadpoolctl, joblib, scikit-learn\n",
      "Successfully installed joblib-1.4.2 scikit-learn-1.6.1 threadpoolctl-3.5.0\n",
      "Note: you may need to restart the kernel to use updated packages.\n"
     ]
    }
   ],
   "source": [
    "pip install scikit-learn "
   ]
  },
  {
   "cell_type": "code",
   "execution_count": 1,
   "metadata": {},
   "outputs": [
    {
     "name": "stdout",
     "output_type": "stream",
     "text": [
      "Array: [1 2 3 4 5]\n",
      "Suma del array: 15\n"
     ]
    }
   ],
   "source": [
    "import numpy as np\n",
    "# Crear un array y calcular su suma\n",
    "array = np.array([1, 2, 3, 4, 5])\n",
    "print(\"Array:\", array)\n",
    "print(\"Suma del array:\", np.sum(array))"
   ]
  },
  {
   "cell_type": "code",
   "execution_count": null,
   "metadata": {},
   "outputs": [],
   "source": []
  }
 ],
 "metadata": {
  "kernelspec": {
   "display_name": ".venv",
   "language": "python",
   "name": "python3"
  },
  "language_info": {
   "codemirror_mode": {
    "name": "ipython",
    "version": 3
   },
   "file_extension": ".py",
   "mimetype": "text/x-python",
   "name": "python",
   "nbconvert_exporter": "python",
   "pygments_lexer": "ipython3",
   "version": "3.13.1"
  }
 },
 "nbformat": 4,
 "nbformat_minor": 2
}
